{
  "nbformat": 4,
  "nbformat_minor": 0,
  "metadata": {
    "colab": {
      "name": "Te damos la bienvenida a Colaboratory",
      "provenance": [],
      "collapsed_sections": [],
      "include_colab_link": true
    },
    "kernelspec": {
      "display_name": "Python 3",
      "name": "python3"
    }
  },
  "cells": [
    {
      "cell_type": "markdown",
      "metadata": {
        "id": "view-in-github",
        "colab_type": "text"
      },
      "source": [
        "<a href=\"https://colab.research.google.com/github/serlecu/practicas_TF2/blob/main/simple_keras_model_wine.ipynb\" target=\"_parent\"><img src=\"https://colab.research.google.com/assets/colab-badge.svg\" alt=\"Open In Colab\"/></a>"
      ]
    },
    {
      "cell_type": "code",
      "metadata": {
        "id": "BX1paAlvfrFi"
      },
      "source": [
        "import tensorflow as tf\n",
        "from sklearn.datasets import load_wine"
      ],
      "execution_count": 10,
      "outputs": []
    },
    {
      "cell_type": "code",
      "metadata": {
        "id": "uyN_c5o3iFof"
      },
      "source": [
        "vino = load_wine()"
      ],
      "execution_count": 13,
      "outputs": []
    },
    {
      "cell_type": "code",
      "metadata": {
        "id": "91MypF8IiVjP"
      },
      "source": [
        "caracteristicas = vino['data']\n",
        "objetivo = vino['target']"
      ],
      "execution_count": 14,
      "outputs": []
    },
    {
      "cell_type": "code",
      "metadata": {
        "id": "fTEvspj8iu-G"
      },
      "source": [
        "from sklearn.model_selection import train_test_split"
      ],
      "execution_count": 15,
      "outputs": []
    },
    {
      "cell_type": "code",
      "metadata": {
        "id": "Y_jx5y-VjJAi"
      },
      "source": [
        "X_train, X_test, y_train, y_test = train_test_split(caracteristicas, objetivo, test_size=0.3)"
      ],
      "execution_count": 17,
      "outputs": []
    },
    {
      "cell_type": "code",
      "metadata": {
        "id": "7-cwOSY8jc7W"
      },
      "source": [
        "from sklearn.preprocessing import MinMaxScaler"
      ],
      "execution_count": 18,
      "outputs": []
    },
    {
      "cell_type": "code",
      "metadata": {
        "id": "s2dIKo7yjkJd"
      },
      "source": [
        "normalizador = MinMaxScaler()"
      ],
      "execution_count": 19,
      "outputs": []
    },
    {
      "cell_type": "code",
      "metadata": {
        "id": "oZoMYOFFjpl0"
      },
      "source": [
        "X_train_normalizado = normalizador.fit_transform(X_train)\n",
        "X_test_normalizado = normalizador.fit_transform(X_test)"
      ],
      "execution_count": 20,
      "outputs": []
    },
    {
      "cell_type": "code",
      "metadata": {
        "id": "Hczi6ihLj4EX"
      },
      "source": [
        "from tensorflow.keras import models, layers, losses, optimizers, metrics, activations"
      ],
      "execution_count": 29,
      "outputs": []
    },
    {
      "cell_type": "code",
      "metadata": {
        "id": "rLXWVzAGkGFR"
      },
      "source": [
        "modelo = models.Sequential()"
      ],
      "execution_count": 30,
      "outputs": []
    },
    {
      "cell_type": "code",
      "metadata": {
        "id": "dp16MAXqkKxH"
      },
      "source": [
        "# Capa de entrada\n",
        "modelo.add(layers.Dense(units=13, input_dim=13, activation='relu'))\n",
        "\n",
        "# Capas intermedias\n",
        "modelo.add(layers.Dense(units=13, activation='relu'))\n",
        "modelo.add(layers.Dense(units=13, activation='relu'))\n",
        "\n",
        "# Capa de salida\n",
        "modelo.add(layers.Dense(units=3, activation='softmax'))"
      ],
      "execution_count": 34,
      "outputs": []
    },
    {
      "cell_type": "code",
      "metadata": {
        "id": "UbAP3n54nDaZ"
      },
      "source": [
        "# Compilar Modelo\n",
        "modelo.compile(optimizer='adam', loss='sparse_categorical_crossentropy', metrics=['accuracy'])"
      ],
      "execution_count": 35,
      "outputs": []
    },
    {
      "cell_type": "code",
      "metadata": {
        "id": "9tF_N4einVBP",
        "outputId": "21cfe654-f1d7-412f-bff4-defb04ad5fcc",
        "colab": {
          "base_uri": "https://localhost:8080/"
        }
      },
      "source": [
        "# Entrenar el Modelo\n",
        "modelo.fit(X_train_normalizado, y_train, epochs=60)"
      ],
      "execution_count": 36,
      "outputs": [
        {
          "output_type": "stream",
          "name": "stdout",
          "text": [
            "Epoch 1/60\n",
            "4/4 [==============================] - 1s 4ms/step - loss: 1.0974 - accuracy: 0.4032\n",
            "Epoch 2/60\n",
            "4/4 [==============================] - 0s 5ms/step - loss: 1.0902 - accuracy: 0.4032\n",
            "Epoch 3/60\n",
            "4/4 [==============================] - 0s 4ms/step - loss: 1.0845 - accuracy: 0.4032\n",
            "Epoch 4/60\n",
            "4/4 [==============================] - 0s 4ms/step - loss: 1.0798 - accuracy: 0.4032\n",
            "Epoch 5/60\n",
            "4/4 [==============================] - 0s 4ms/step - loss: 1.0743 - accuracy: 0.4032\n",
            "Epoch 6/60\n",
            "4/4 [==============================] - 0s 4ms/step - loss: 1.0679 - accuracy: 0.4032\n",
            "Epoch 7/60\n",
            "4/4 [==============================] - 0s 4ms/step - loss: 1.0608 - accuracy: 0.4032\n",
            "Epoch 8/60\n",
            "4/4 [==============================] - 0s 3ms/step - loss: 1.0531 - accuracy: 0.4032\n",
            "Epoch 9/60\n",
            "4/4 [==============================] - 0s 4ms/step - loss: 1.0445 - accuracy: 0.4032\n",
            "Epoch 10/60\n",
            "4/4 [==============================] - 0s 4ms/step - loss: 1.0348 - accuracy: 0.4355\n",
            "Epoch 11/60\n",
            "4/4 [==============================] - 0s 4ms/step - loss: 1.0224 - accuracy: 0.4677\n",
            "Epoch 12/60\n",
            "4/4 [==============================] - 0s 4ms/step - loss: 1.0089 - accuracy: 0.5081\n",
            "Epoch 13/60\n",
            "4/4 [==============================] - 0s 4ms/step - loss: 0.9919 - accuracy: 0.5887\n",
            "Epoch 14/60\n",
            "4/4 [==============================] - 0s 4ms/step - loss: 0.9749 - accuracy: 0.6048\n",
            "Epoch 15/60\n",
            "4/4 [==============================] - 0s 4ms/step - loss: 0.9527 - accuracy: 0.6048\n",
            "Epoch 16/60\n",
            "4/4 [==============================] - 0s 3ms/step - loss: 0.9289 - accuracy: 0.6290\n",
            "Epoch 17/60\n",
            "4/4 [==============================] - 0s 4ms/step - loss: 0.9014 - accuracy: 0.6532\n",
            "Epoch 18/60\n",
            "4/4 [==============================] - 0s 4ms/step - loss: 0.8690 - accuracy: 0.6613\n",
            "Epoch 19/60\n",
            "4/4 [==============================] - 0s 4ms/step - loss: 0.8345 - accuracy: 0.6613\n",
            "Epoch 20/60\n",
            "4/4 [==============================] - 0s 4ms/step - loss: 0.7974 - accuracy: 0.6935\n",
            "Epoch 21/60\n",
            "4/4 [==============================] - 0s 5ms/step - loss: 0.7543 - accuracy: 0.6935\n",
            "Epoch 22/60\n",
            "4/4 [==============================] - 0s 5ms/step - loss: 0.7144 - accuracy: 0.6935\n",
            "Epoch 23/60\n",
            "4/4 [==============================] - 0s 7ms/step - loss: 0.6733 - accuracy: 0.6935\n",
            "Epoch 24/60\n",
            "4/4 [==============================] - 0s 4ms/step - loss: 0.6341 - accuracy: 0.6935\n",
            "Epoch 25/60\n",
            "4/4 [==============================] - 0s 4ms/step - loss: 0.5994 - accuracy: 0.7016\n",
            "Epoch 26/60\n",
            "4/4 [==============================] - 0s 4ms/step - loss: 0.5646 - accuracy: 0.7016\n",
            "Epoch 27/60\n",
            "4/4 [==============================] - 0s 5ms/step - loss: 0.5327 - accuracy: 0.7016\n",
            "Epoch 28/60\n",
            "4/4 [==============================] - 0s 8ms/step - loss: 0.5109 - accuracy: 0.7097\n",
            "Epoch 29/60\n",
            "4/4 [==============================] - 0s 4ms/step - loss: 0.4808 - accuracy: 0.7097\n",
            "Epoch 30/60\n",
            "4/4 [==============================] - 0s 4ms/step - loss: 0.4635 - accuracy: 0.7016\n",
            "Epoch 31/60\n",
            "4/4 [==============================] - 0s 4ms/step - loss: 0.4378 - accuracy: 0.7097\n",
            "Epoch 32/60\n",
            "4/4 [==============================] - 0s 4ms/step - loss: 0.4159 - accuracy: 0.8145\n",
            "Epoch 33/60\n",
            "4/4 [==============================] - 0s 5ms/step - loss: 0.3951 - accuracy: 0.8790\n",
            "Epoch 34/60\n",
            "4/4 [==============================] - 0s 5ms/step - loss: 0.3747 - accuracy: 0.8871\n",
            "Epoch 35/60\n",
            "4/4 [==============================] - 0s 6ms/step - loss: 0.3494 - accuracy: 0.8952\n",
            "Epoch 36/60\n",
            "4/4 [==============================] - 0s 5ms/step - loss: 0.3318 - accuracy: 0.9194\n",
            "Epoch 37/60\n",
            "4/4 [==============================] - 0s 5ms/step - loss: 0.3042 - accuracy: 0.9274\n",
            "Epoch 38/60\n",
            "4/4 [==============================] - 0s 5ms/step - loss: 0.2827 - accuracy: 0.9113\n",
            "Epoch 39/60\n",
            "4/4 [==============================] - 0s 5ms/step - loss: 0.2613 - accuracy: 0.9113\n",
            "Epoch 40/60\n",
            "4/4 [==============================] - 0s 8ms/step - loss: 0.2419 - accuracy: 0.9274\n",
            "Epoch 41/60\n",
            "4/4 [==============================] - 0s 4ms/step - loss: 0.2261 - accuracy: 0.9516\n",
            "Epoch 42/60\n",
            "4/4 [==============================] - 0s 5ms/step - loss: 0.2057 - accuracy: 0.9355\n",
            "Epoch 43/60\n",
            "4/4 [==============================] - 0s 4ms/step - loss: 0.1931 - accuracy: 0.9274\n",
            "Epoch 44/60\n",
            "4/4 [==============================] - 0s 5ms/step - loss: 0.1788 - accuracy: 0.9516\n",
            "Epoch 45/60\n",
            "4/4 [==============================] - 0s 4ms/step - loss: 0.1698 - accuracy: 0.9597\n",
            "Epoch 46/60\n",
            "4/4 [==============================] - 0s 5ms/step - loss: 0.1538 - accuracy: 0.9516\n",
            "Epoch 47/60\n",
            "4/4 [==============================] - 0s 4ms/step - loss: 0.1476 - accuracy: 0.9597\n",
            "Epoch 48/60\n",
            "4/4 [==============================] - 0s 7ms/step - loss: 0.1341 - accuracy: 0.9758\n",
            "Epoch 49/60\n",
            "4/4 [==============================] - 0s 4ms/step - loss: 0.1252 - accuracy: 0.9758\n",
            "Epoch 50/60\n",
            "4/4 [==============================] - 0s 6ms/step - loss: 0.1196 - accuracy: 0.9677\n",
            "Epoch 51/60\n",
            "4/4 [==============================] - 0s 5ms/step - loss: 0.1120 - accuracy: 0.9677\n",
            "Epoch 52/60\n",
            "4/4 [==============================] - 0s 4ms/step - loss: 0.1172 - accuracy: 0.9597\n",
            "Epoch 53/60\n",
            "4/4 [==============================] - 0s 4ms/step - loss: 0.1033 - accuracy: 0.9677\n",
            "Epoch 54/60\n",
            "4/4 [==============================] - 0s 4ms/step - loss: 0.1014 - accuracy: 0.9758\n",
            "Epoch 55/60\n",
            "4/4 [==============================] - 0s 4ms/step - loss: 0.0983 - accuracy: 0.9677\n",
            "Epoch 56/60\n",
            "4/4 [==============================] - 0s 6ms/step - loss: 0.0868 - accuracy: 0.9758\n",
            "Epoch 57/60\n",
            "4/4 [==============================] - 0s 4ms/step - loss: 0.0821 - accuracy: 0.9758\n",
            "Epoch 58/60\n",
            "4/4 [==============================] - 0s 4ms/step - loss: 0.0795 - accuracy: 0.9839\n",
            "Epoch 59/60\n",
            "4/4 [==============================] - 0s 4ms/step - loss: 0.0746 - accuracy: 0.9758\n",
            "Epoch 60/60\n",
            "4/4 [==============================] - 0s 4ms/step - loss: 0.0714 - accuracy: 0.9839\n"
          ]
        },
        {
          "output_type": "execute_result",
          "data": {
            "text/plain": [
              "<keras.callbacks.History at 0x7fce6cee1650>"
            ]
          },
          "metadata": {},
          "execution_count": 36
        }
      ]
    },
    {
      "cell_type": "code",
      "metadata": {
        "id": "rSQlNMQaoMrO"
      },
      "source": [
        "# Ejecutar el modelo\n",
        "import numpy as np\n",
        "\n",
        "predicciones = modelo.predict(X_test_normalizado)\n",
        "predicciones = np.argmax(predicciones,axis=1)"
      ],
      "execution_count": 40,
      "outputs": []
    },
    {
      "cell_type": "code",
      "metadata": {
        "id": "QTzhqpxLo3zS",
        "outputId": "518e2335-b12d-405c-c49b-f7c9113f6f76",
        "colab": {
          "base_uri": "https://localhost:8080/"
        }
      },
      "source": [
        "from sklearn.metrics import classification_report\n",
        "\n",
        "print(classification_report(y_test,predicciones))"
      ],
      "execution_count": 41,
      "outputs": [
        {
          "output_type": "stream",
          "name": "stdout",
          "text": [
            "              precision    recall  f1-score   support\n",
            "\n",
            "           0       0.67      1.00      0.80        16\n",
            "           1       0.87      0.62      0.72        21\n",
            "           2       1.00      0.88      0.94        17\n",
            "\n",
            "    accuracy                           0.81        54\n",
            "   macro avg       0.84      0.83      0.82        54\n",
            "weighted avg       0.85      0.81      0.81        54\n",
            "\n"
          ]
        }
      ]
    }
  ]
}